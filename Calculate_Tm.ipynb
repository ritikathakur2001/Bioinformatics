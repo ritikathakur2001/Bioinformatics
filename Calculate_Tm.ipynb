{
 "cells": [
  {
   "cell_type": "markdown",
   "id": "a53c7a6f",
   "metadata": {},
   "source": [
    "# Problem 3\n",
    "\n",
    "A string is simply an ordered collection of symbols selected from some alphabet and formed into a word; the length of a string is the number of symbols that it contains.\n",
    "\n",
    "An example of a length 21 DNA string (whose alphabet contains the symbols 'A', 'C', 'G', and 'T') is \"ATGCTTCAGAAAGGTCTTACG.\"\n",
    "\n",
    "Given: A DNA string s of length at most 1000 nt.\n",
    "\n",
    "Return: Four integers (separated by spaces) counting the respective number of times that the symbols 'A', 'C', 'G', and 'T' occur in s and calculate the Tm(Melting temperature)."
   ]
  },
  {
   "cell_type": "code",
   "execution_count": 1,
   "id": "a91d19d9",
   "metadata": {},
   "outputs": [
    {
     "name": "stdout",
     "output_type": "stream",
     "text": [
      "Melting temperature(Tm) in celcius: 68\n"
     ]
    }
   ],
   "source": [
    "def count_nt(total_nt):\n",
    "    A = 0\n",
    "    T = 0\n",
    "    G = 0\n",
    "    C = 0\n",
    "    for letter in total_nt:\n",
    "        if letter == \"A\":\n",
    "            A = A + 1\n",
    "        elif letter == \"T\":\n",
    "            T = T + 1\n",
    "        elif letter == \"G\":\n",
    "            G = G + 1\n",
    "        elif letter == \"C\":\n",
    "            C = C + 1\n",
    "    return A,T,G,C\n",
    "\n",
    "\n",
    "def calculate_tm(total_nt1):\n",
    "    a1, t1, g1, c1 = count_nt(total_nt1)\n",
    "    Tm = 4 * (g1 + c1) + 2 * (a1 + t1)\n",
    "    return Tm\n",
    "\n",
    "with open (\"DNA_Tm.txt\") as file:\n",
    "    dna_length = file.readline()\n",
    "dna_length\n",
    "tm = calculate_tm(dna_length)\n",
    "print (\"Melting temperature(Tm) in celcius:\",tm)"
   ]
  },
  {
   "cell_type": "code",
   "execution_count": null,
   "id": "a00764b8",
   "metadata": {},
   "outputs": [],
   "source": []
  }
 ],
 "metadata": {
  "kernelspec": {
   "display_name": "Python 3 (ipykernel)",
   "language": "python",
   "name": "python3"
  },
  "language_info": {
   "codemirror_mode": {
    "name": "ipython",
    "version": 3
   },
   "file_extension": ".py",
   "mimetype": "text/x-python",
   "name": "python",
   "nbconvert_exporter": "python",
   "pygments_lexer": "ipython3",
   "version": "3.10.9"
  }
 },
 "nbformat": 4,
 "nbformat_minor": 5
}
