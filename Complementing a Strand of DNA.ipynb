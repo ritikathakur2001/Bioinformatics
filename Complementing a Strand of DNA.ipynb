{
 "cells": [
  {
   "cell_type": "markdown",
   "id": "cb033d0e",
   "metadata": {},
   "source": [
    "# Problem 4\n",
    "\n",
    "In DNA strings, symbols 'A' and 'T' are complements of each other, as are 'C' and 'G'.\n",
    "\n",
    "The reverse complement of a DNA string s is the string sc formed by reversing the symbols of s, then taking the complement of each symbol (e.g., the reverse complement of \"GTCA\" is \"TGAC\").\n",
    "\n",
    "Given: A DNA string s of length at most 1000 bp.\n",
    "Return: The reverse complement sc of s."
   ]
  },
  {
   "cell_type": "code",
   "execution_count": 16,
   "id": "e74c9d3c",
   "metadata": {},
   "outputs": [
    {
     "data": {
      "text/plain": [
       "'ACCCATGGAGTAGAATACAGCTTTGGTGTGCGTCTGTGATCCATGTCGGGTTAAGTTTGCGGAGATGACTAGGGTCGCAAGGGTTAACCAAGGGTGTCTATAGTGTAGCACCACTTTACGCACCGCCATTTATTTGTAGATGAAATGTGGAAGACGAGTATTGGGGCCTGCGTTCTAGATCGGTCACCAGCCTTAGGTCCCATGTTACCAAAGTCCGGGCAGACTTAGCTGCCCTTAGGTACCGATATGTAAATACGGCGCATTCCTCCCGGGATGATCTTAGAAGCGATTTGCATGCTTGGTGAGTGGTCATCTCCCTTGGTTAAAGTGCTAGCCAGAGCTGGCAACGATAACTGATTTATCGACATAAAGCATCTAAGCACCTTCGGATATTATTATCAAGCTGACAGTTGTGCACAATGTATCACATTCGATTCCCTAATCTGCCGTTCCTCGTCTAGAGCACGTCGTACTAATCAGCACGATTGTACTCGTGGGCGATCTGTGTTATAGCCGTGGCACCACGACCAATTCGGCCTACAGACGCCGTGTAGAAACTCCATGAATACACACTAATGGGGTGTCCTGCGGTCGGTGTTACGCACCTCCGTCAAATGTGGAGCTGTACTTTTCTCACGATCATGCGGCGCTGTGAGCGGGCGCCCCTTGTCGCGTAATCGACAATAGTATGCCACGATGCGTTTGAGGACGTTTGTCACTCTCTATCCGCGAAGCGGAAGCAATCAGCGTATCATGAGACGAACTCCCAGTGATCGAACTACGCAACCATCTAGCTGATATCGAGAGCCTACTCGTTTAATGAGGGGTCCGGGCTATGATGCTTTAGTCGAGCCGTTGGGGGCCCACATATTACACCGTTAATATCCCCGTATGTACAAGTCACAACGCTAACTATACATTGCCC\\n'"
      ]
     },
     "execution_count": 16,
     "metadata": {},
     "output_type": "execute_result"
    }
   ],
   "source": [
    "with open (\"rosalind_dna.txt\") as file:\n",
    "    dna_rna = file.readline()\n",
    "dna_rna"
   ]
  },
  {
   "cell_type": "code",
   "execution_count": 1,
   "id": "bff5b729",
   "metadata": {},
   "outputs": [],
   "source": [
    "def complement_dna(dna_rna1):\n",
    "    \"\"\"IT WILL GIVE THE COMPLEMENTARY STRAND OF A DNA SEQUENCE\"\"\"\n",
    "    dna1 = \"\"\n",
    "    for nt1 in dna_rna1:\n",
    "        if nt1 == \"A\":\n",
    "            dna1 = dna1 + \"T\"\n",
    "        elif nt1 == \"T\":\n",
    "            dna1 = dna1 + \"A\"\n",
    "        elif nt1 == \"G\":\n",
    "            dna1 = dna1 + \"C\"\n",
    "        elif nt1 == \"C\":\n",
    "            dna1 = dna1 + \"G\"\n",
    "    reverse_dna1 = dna1[-1::-1]\n",
    "    return(reverse_dna1)  "
   ]
  },
  {
   "cell_type": "code",
   "execution_count": 19,
   "id": "b031ec42",
   "metadata": {},
   "outputs": [
    {
     "name": "stdout",
     "output_type": "stream",
     "text": [
      "GGGCAATGTATAGTTAGCGTTGTGACTTGTACATACGGGGATATTAACGGTGTAATATGTGGGCCCCCAACGGCTCGACTAAAGCATCATAGCCCGGACCCCTCATTAAACGAGTAGGCTCTCGATATCAGCTAGATGGTTGCGTAGTTCGATCACTGGGAGTTCGTCTCATGATACGCTGATTGCTTCCGCTTCGCGGATAGAGAGTGACAAACGTCCTCAAACGCATCGTGGCATACTATTGTCGATTACGCGACAAGGGGCGCCCGCTCACAGCGCCGCATGATCGTGAGAAAAGTACAGCTCCACATTTGACGGAGGTGCGTAACACCGACCGCAGGACACCCCATTAGTGTGTATTCATGGAGTTTCTACACGGCGTCTGTAGGCCGAATTGGTCGTGGTGCCACGGCTATAACACAGATCGCCCACGAGTACAATCGTGCTGATTAGTACGACGTGCTCTAGACGAGGAACGGCAGATTAGGGAATCGAATGTGATACATTGTGCACAACTGTCAGCTTGATAATAATATCCGAAGGTGCTTAGATGCTTTATGTCGATAAATCAGTTATCGTTGCCAGCTCTGGCTAGCACTTTAACCAAGGGAGATGACCACTCACCAAGCATGCAAATCGCTTCTAAGATCATCCCGGGAGGAATGCGCCGTATTTACATATCGGTACCTAAGGGCAGCTAAGTCTGCCCGGACTTTGGTAACATGGGACCTAAGGCTGGTGACCGATCTAGAACGCAGGCCCCAATACTCGTCTTCCACATTTCATCTACAAATAAATGGCGGTGCGTAAAGTGGTGCTACACTATAGACACCCTTGGTTAACCCTTGCGACCCTAGTCATCTCCGCAAACTTAACCCGACATGGATCACAGACGCACACCAAAGCTGTATTCTACTCCATGGGT\n"
     ]
    }
   ],
   "source": [
    "s = complement_dna(dna_rna)\n",
    "print(s)"
   ]
  },
  {
   "cell_type": "code",
   "execution_count": null,
   "id": "0378aac7",
   "metadata": {},
   "outputs": [],
   "source": []
  }
 ],
 "metadata": {
  "kernelspec": {
   "display_name": "Python 3 (ipykernel)",
   "language": "python",
   "name": "python3"
  },
  "language_info": {
   "codemirror_mode": {
    "name": "ipython",
    "version": 3
   },
   "file_extension": ".py",
   "mimetype": "text/x-python",
   "name": "python",
   "nbconvert_exporter": "python",
   "pygments_lexer": "ipython3",
   "version": "3.10.9"
  }
 },
 "nbformat": 4,
 "nbformat_minor": 5
}
