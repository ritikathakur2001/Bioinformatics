{
 "cells": [
  {
   "cell_type": "markdown",
   "id": "176c9730",
   "metadata": {},
   "source": [
    "# Problem 1\n",
    "\n",
    "A string is simply an ordered collection of symbols selected from some alphabet and formed into a word; the length of a string is the number of symbols that it contains.\n",
    "\n",
    "An example of a length 21 DNA string (whose alphabet contains the symbols 'A', 'C', 'G', and 'T') is \"ATGCTTCAGAAAGGTCTTACG.\"\n",
    "\n",
    "Given: A DNA string s of length at most 1000 nt.\n",
    "\n",
    "Return: Four integers (separated by spaces) counting the respective number of times that the symbols 'A', 'C', 'G', and 'T' occur in s."
   ]
  },
  {
   "cell_type": "code",
   "execution_count": 4,
   "id": "0be1dc66",
   "metadata": {},
   "outputs": [
    {
     "data": {
      "text/plain": [
       "'ACCCATGGAGTAGAATACAGCTTTGGTGTGCGTCTGTGATCCATGTCGGGTTAAGTTTGCGGAGATGACTAGGGTCGCAAGGGTTAACCAAGGGTGTCTATAGTGTAGCACCACTTTACGCACCGCCATTTATTTGTAGATGAAATGTGGAAGACGAGTATTGGGGCCTGCGTTCTAGATCGGTCACCAGCCTTAGGTCCCATGTTACCAAAGTCCGGGCAGACTTAGCTGCCCTTAGGTACCGATATGTAAATACGGCGCATTCCTCCCGGGATGATCTTAGAAGCGATTTGCATGCTTGGTGAGTGGTCATCTCCCTTGGTTAAAGTGCTAGCCAGAGCTGGCAACGATAACTGATTTATCGACATAAAGCATCTAAGCACCTTCGGATATTATTATCAAGCTGACAGTTGTGCACAATGTATCACATTCGATTCCCTAATCTGCCGTTCCTCGTCTAGAGCACGTCGTACTAATCAGCACGATTGTACTCGTGGGCGATCTGTGTTATAGCCGTGGCACCACGACCAATTCGGCCTACAGACGCCGTGTAGAAACTCCATGAATACACACTAATGGGGTGTCCTGCGGTCGGTGTTACGCACCTCCGTCAAATGTGGAGCTGTACTTTTCTCACGATCATGCGGCGCTGTGAGCGGGCGCCCCTTGTCGCGTAATCGACAATAGTATGCCACGATGCGTTTGAGGACGTTTGTCACTCTCTATCCGCGAAGCGGAAGCAATCAGCGTATCATGAGACGAACTCCCAGTGATCGAACTACGCAACCATCTAGCTGATATCGAGAGCCTACTCGTTTAATGAGGGGTCCGGGCTATGATGCTTTAGTCGAGCCGTTGGGGGCCCACATATTACACCGTTAATATCCCCGTATGTACAAGTCACAACGCTAACTATACATTGCCC\\n'"
      ]
     },
     "execution_count": 4,
     "metadata": {},
     "output_type": "execute_result"
    }
   ],
   "source": [
    "with open (\"rosalind_dna.txt\") as file:\n",
    "    dna_length = file.readline()\n",
    "dna_length"
   ]
  },
  {
   "cell_type": "code",
   "execution_count": 5,
   "id": "ee675b05",
   "metadata": {},
   "outputs": [
    {
     "name": "stdout",
     "output_type": "stream",
     "text": [
      "Number of nucleotides- A: 222 T: 243 G: 232 C: 228\n"
     ]
    }
   ],
   "source": [
    "def count_nt(total_nt):\n",
    "    A = 0\n",
    "    T = 0\n",
    "    G = 0\n",
    "    C = 0\n",
    "    for letter in total_nt:\n",
    "        if letter == \"A\":\n",
    "            A = A + 1\n",
    "        elif letter == \"T\":\n",
    "            T = T + 1\n",
    "        elif letter == \"G\":\n",
    "            G = G + 1\n",
    "        elif letter == \"C\":\n",
    "            C = C + 1\n",
    "    return A,T,G,C\n",
    "a,t,g,c = count_nt(dna_length)\n",
    "print(\"Number of nucleotides-\", \"A:\",a, \"T:\",t, \"G:\",g, \"C:\",c)"
   ]
  },
  {
   "cell_type": "code",
   "execution_count": null,
   "id": "7c0c46b4",
   "metadata": {},
   "outputs": [],
   "source": []
  }
 ],
 "metadata": {
  "kernelspec": {
   "display_name": "Python 3 (ipykernel)",
   "language": "python",
   "name": "python3"
  },
  "language_info": {
   "codemirror_mode": {
    "name": "ipython",
    "version": 3
   },
   "file_extension": ".py",
   "mimetype": "text/x-python",
   "name": "python",
   "nbconvert_exporter": "python",
   "pygments_lexer": "ipython3",
   "version": "3.10.9"
  }
 },
 "nbformat": 4,
 "nbformat_minor": 5
}
